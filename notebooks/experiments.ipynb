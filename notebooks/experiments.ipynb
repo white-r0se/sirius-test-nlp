{
 "cells": [
  {
   "cell_type": "code",
   "execution_count": 1,
   "metadata": {},
   "outputs": [],
   "source": [
    "import pandas as pd"
   ]
  },
  {
   "cell_type": "code",
   "execution_count": 2,
   "metadata": {},
   "outputs": [
    {
     "data": {
      "text/html": [
       "<div>\n",
       "<style scoped>\n",
       "    .dataframe tbody tr th:only-of-type {\n",
       "        vertical-align: middle;\n",
       "    }\n",
       "\n",
       "    .dataframe tbody tr th {\n",
       "        vertical-align: top;\n",
       "    }\n",
       "\n",
       "    .dataframe thead th {\n",
       "        text-align: right;\n",
       "    }\n",
       "</style>\n",
       "<table border=\"1\" class=\"dataframe\">\n",
       "  <thead>\n",
       "    <tr style=\"text-align: right;\">\n",
       "      <th></th>\n",
       "      <th>context_3</th>\n",
       "      <th>context_2</th>\n",
       "      <th>context_1</th>\n",
       "      <th>response</th>\n",
       "    </tr>\n",
       "  </thead>\n",
       "  <tbody>\n",
       "    <tr>\n",
       "      <th>3139</th>\n",
       "      <td>NaN</td>\n",
       "      <td>Всем привет. Меня зовут Настя. Я чувствую здес...</td>\n",
       "      <td>Привет!\\nУ меня похожее было: я занимался биоф...</td>\n",
       "      <td>Спасибо за то что поделился своим опытом :)</td>\n",
       "    </tr>\n",
       "    <tr>\n",
       "      <th>2747</th>\n",
       "      <td>NaN</td>\n",
       "      <td>NaN</td>\n",
       "      <td>NaN</td>\n",
       "      <td>pin version наверное надо использовать</td>\n",
       "    </tr>\n",
       "    <tr>\n",
       "      <th>2715</th>\n",
       "      <td>Если выберешь nano, то только v2, первый плоховат</td>\n",
       "      <td>Спасибо! Буду пробовать.</td>\n",
       "      <td>Плюс один в диси)</td>\n",
       "      <td>Всем привет! Не подскажете, где можно что-то п...</td>\n",
       "    </tr>\n",
       "    <tr>\n",
       "      <th>2563</th>\n",
       "      <td>NaN</td>\n",
       "      <td>NaN</td>\n",
       "      <td>NaN</td>\n",
       "      <td>Мысль вобщем в том, что синтетика - это тоже в...</td>\n",
       "    </tr>\n",
       "    <tr>\n",
       "      <th>2502</th>\n",
       "      <td>NaN</td>\n",
       "      <td>NaN</td>\n",
       "      <td>NaN</td>\n",
       "      <td>Всем привет. Может не в эту категорию, но всё ...</td>\n",
       "    </tr>\n",
       "  </tbody>\n",
       "</table>\n",
       "</div>"
      ],
      "text/plain": [
       "                                              context_3  \\\n",
       "3139                                                NaN   \n",
       "2747                                                NaN   \n",
       "2715  Если выберешь nano, то только v2, первый плоховат   \n",
       "2563                                                NaN   \n",
       "2502                                                NaN   \n",
       "\n",
       "                                              context_2  \\\n",
       "3139  Всем привет. Меня зовут Настя. Я чувствую здес...   \n",
       "2747                                                NaN   \n",
       "2715                           Спасибо! Буду пробовать.   \n",
       "2563                                                NaN   \n",
       "2502                                                NaN   \n",
       "\n",
       "                                              context_1  \\\n",
       "3139  Привет!\\nУ меня похожее было: я занимался биоф...   \n",
       "2747                                                NaN   \n",
       "2715                                  Плюс один в диси)   \n",
       "2563                                                NaN   \n",
       "2502                                                NaN   \n",
       "\n",
       "                                               response  \n",
       "3139        Спасибо за то что поделился своим опытом :)  \n",
       "2747             pin version наверное надо использовать  \n",
       "2715  Всем привет! Не подскажете, где можно что-то п...  \n",
       "2563  Мысль вобщем в том, что синтетика - это тоже в...  \n",
       "2502  Всем привет. Может не в эту категорию, но всё ...  "
      ]
     },
     "execution_count": 2,
     "metadata": {},
     "output_type": "execute_result"
    }
   ],
   "source": [
    "data = pd.read_csv(\"../data/data.csv\")\n",
    "data.sample(5)"
   ]
  },
  {
   "cell_type": "code",
   "execution_count": 3,
   "metadata": {},
   "outputs": [
    {
     "data": {
      "text/plain": [
       "(3912, 4)"
      ]
     },
     "execution_count": 3,
     "metadata": {},
     "output_type": "execute_result"
    }
   ],
   "source": [
    "data.shape"
   ]
  },
  {
   "cell_type": "code",
   "execution_count": 4,
   "metadata": {},
   "outputs": [],
   "source": [
    "data_droped_nan = data.dropna(subset=['context_1'])"
   ]
  },
  {
   "cell_type": "code",
   "execution_count": 5,
   "metadata": {},
   "outputs": [
    {
     "data": {
      "text/plain": [
       "(2368, 4)"
      ]
     },
     "execution_count": 5,
     "metadata": {},
     "output_type": "execute_result"
    }
   ],
   "source": [
    "data_droped_nan.shape"
   ]
  },
  {
   "cell_type": "markdown",
   "metadata": {},
   "source": []
  },
  {
   "cell_type": "code",
   "execution_count": 6,
   "metadata": {},
   "outputs": [
    {
     "data": {
      "text/html": [
       "<div>\n",
       "<style scoped>\n",
       "    .dataframe tbody tr th:only-of-type {\n",
       "        vertical-align: middle;\n",
       "    }\n",
       "\n",
       "    .dataframe tbody tr th {\n",
       "        vertical-align: top;\n",
       "    }\n",
       "\n",
       "    .dataframe thead th {\n",
       "        text-align: right;\n",
       "    }\n",
       "</style>\n",
       "<table border=\"1\" class=\"dataframe\">\n",
       "  <thead>\n",
       "    <tr style=\"text-align: right;\">\n",
       "      <th></th>\n",
       "      <th>context_3</th>\n",
       "      <th>context_2</th>\n",
       "      <th>context_1</th>\n",
       "      <th>response</th>\n",
       "    </tr>\n",
       "  </thead>\n",
       "  <tbody>\n",
       "    <tr>\n",
       "      <th>1</th>\n",
       "      <td>NaN</td>\n",
       "      <td>NaN</td>\n",
       "      <td>Если не подписывать, что это учебная дз практи...</td>\n",
       "      <td>Всем добрый денек! Занимаюсь задачей QA по кор...</td>\n",
       "    </tr>\n",
       "    <tr>\n",
       "      <th>3</th>\n",
       "      <td>NaN</td>\n",
       "      <td>NaN</td>\n",
       "      <td>Или не сота, но хотя бы базированное решение, ...</td>\n",
       "      <td>Retrieve and rerank sbert, думаю</td>\n",
       "    </tr>\n",
       "    <tr>\n",
       "      <th>6</th>\n",
       "      <td>NaN</td>\n",
       "      <td>NaN</td>\n",
       "      <td>Добрый день, с глупым вопросом возможно залечу...</td>\n",
       "      <td>А почему вы решили, что комната поменьше не жи...</td>\n",
       "    </tr>\n",
       "    <tr>\n",
       "      <th>9</th>\n",
       "      <td>NaN</td>\n",
       "      <td>NaN</td>\n",
       "      <td>opencv пока не пробовали, но можно.\\n\"Самый бо...</td>\n",
       "      <td>В вопросе была именно такая формулировка)</td>\n",
       "    </tr>\n",
       "    <tr>\n",
       "      <th>11</th>\n",
       "      <td>NaN</td>\n",
       "      <td>NaN</td>\n",
       "      <td>Всем привет! \\nПодскажите, пожалуйста, какие-т...</td>\n",
       "      <td>контекстов когда совсем не применим я не могу ...</td>\n",
       "    </tr>\n",
       "    <tr>\n",
       "      <th>...</th>\n",
       "      <td>...</td>\n",
       "      <td>...</td>\n",
       "      <td>...</td>\n",
       "      <td>...</td>\n",
       "    </tr>\n",
       "    <tr>\n",
       "      <th>3904</th>\n",
       "      <td>NaN</td>\n",
       "      <td>NaN</td>\n",
       "      <td>Всем привет, подскажите пожалуйста, как запуст...</td>\n",
       "      <td>Вынести в отдельный сервис, в котлине оставить...</td>\n",
       "    </tr>\n",
       "    <tr>\n",
       "      <th>3907</th>\n",
       "      <td>NaN</td>\n",
       "      <td>NaN</td>\n",
       "      <td>Это нормально когда работодатель просит чтобы ...</td>\n",
       "      <td>Только если ты уже трудоустроен)</td>\n",
       "    </tr>\n",
       "    <tr>\n",
       "      <th>3909</th>\n",
       "      <td>NaN</td>\n",
       "      <td>NaN</td>\n",
       "      <td>звучит как скам)</td>\n",
       "      <td>Ладно</td>\n",
       "    </tr>\n",
       "    <tr>\n",
       "      <th>3910</th>\n",
       "      <td>NaN</td>\n",
       "      <td>звучит как скам)</td>\n",
       "      <td>Ладно</td>\n",
       "      <td>дичь</td>\n",
       "    </tr>\n",
       "    <tr>\n",
       "      <th>3911</th>\n",
       "      <td>звучит как скам)</td>\n",
       "      <td>Ладно</td>\n",
       "      <td>дичь</td>\n",
       "      <td>кто ранил инференс whisper на multiple gpu? на...</td>\n",
       "    </tr>\n",
       "  </tbody>\n",
       "</table>\n",
       "<p>2368 rows × 4 columns</p>\n",
       "</div>"
      ],
      "text/plain": [
       "             context_3         context_2  \\\n",
       "1                  NaN               NaN   \n",
       "3                  NaN               NaN   \n",
       "6                  NaN               NaN   \n",
       "9                  NaN               NaN   \n",
       "11                 NaN               NaN   \n",
       "...                ...               ...   \n",
       "3904               NaN               NaN   \n",
       "3907               NaN               NaN   \n",
       "3909               NaN               NaN   \n",
       "3910               NaN  звучит как скам)   \n",
       "3911  звучит как скам)             Ладно   \n",
       "\n",
       "                                              context_1  \\\n",
       "1     Если не подписывать, что это учебная дз практи...   \n",
       "3     Или не сота, но хотя бы базированное решение, ...   \n",
       "6     Добрый день, с глупым вопросом возможно залечу...   \n",
       "9     opencv пока не пробовали, но можно.\\n\"Самый бо...   \n",
       "11    Всем привет! \\nПодскажите, пожалуйста, какие-т...   \n",
       "...                                                 ...   \n",
       "3904  Всем привет, подскажите пожалуйста, как запуст...   \n",
       "3907  Это нормально когда работодатель просит чтобы ...   \n",
       "3909                                   звучит как скам)   \n",
       "3910                                              Ладно   \n",
       "3911                                               дичь   \n",
       "\n",
       "                                               response  \n",
       "1     Всем добрый денек! Занимаюсь задачей QA по кор...  \n",
       "3                      Retrieve and rerank sbert, думаю  \n",
       "6     А почему вы решили, что комната поменьше не жи...  \n",
       "9             В вопросе была именно такая формулировка)  \n",
       "11    контекстов когда совсем не применим я не могу ...  \n",
       "...                                                 ...  \n",
       "3904  Вынести в отдельный сервис, в котлине оставить...  \n",
       "3907                   Только если ты уже трудоустроен)  \n",
       "3909                                              Ладно  \n",
       "3910                                               дичь  \n",
       "3911  кто ранил инференс whisper на multiple gpu? на...  \n",
       "\n",
       "[2368 rows x 4 columns]"
      ]
     },
     "execution_count": 6,
     "metadata": {},
     "output_type": "execute_result"
    }
   ],
   "source": [
    "data_droped_nan"
   ]
  },
  {
   "cell_type": "code",
   "execution_count": 7,
   "metadata": {},
   "outputs": [
    {
     "data": {
      "text/html": [
       "<div>\n",
       "<style scoped>\n",
       "    .dataframe tbody tr th:only-of-type {\n",
       "        vertical-align: middle;\n",
       "    }\n",
       "\n",
       "    .dataframe tbody tr th {\n",
       "        vertical-align: top;\n",
       "    }\n",
       "\n",
       "    .dataframe thead th {\n",
       "        text-align: right;\n",
       "    }\n",
       "</style>\n",
       "<table border=\"1\" class=\"dataframe\">\n",
       "  <thead>\n",
       "    <tr style=\"text-align: right;\">\n",
       "      <th></th>\n",
       "      <th>context_3</th>\n",
       "      <th>context_2</th>\n",
       "      <th>context_1</th>\n",
       "      <th>response</th>\n",
       "    </tr>\n",
       "  </thead>\n",
       "  <tbody>\n",
       "    <tr>\n",
       "      <th>40</th>\n",
       "      <td>По идее это может сделать стейбл диффужен с re...</td>\n",
       "      <td>вот да, видел примеры с стейбл, показалось, чт...</td>\n",
       "      <td>Смотря как подойти к делу, но вряд ли стоит вр...</td>\n",
       "      <td>мне кажется, это в первую очередь вопрос, как ...</td>\n",
       "    </tr>\n",
       "    <tr>\n",
       "      <th>41</th>\n",
       "      <td>вот да, видел примеры с стейбл, показалось, чт...</td>\n",
       "      <td>Смотря как подойти к делу, но вряд ли стоит вр...</td>\n",
       "      <td>мне кажется, это в первую очередь вопрос, как ...</td>\n",
       "      <td>Контролнет работает поверх клипа с тем на что ...</td>\n",
       "    </tr>\n",
       "    <tr>\n",
       "      <th>42</th>\n",
       "      <td>Смотря как подойти к делу, но вряд ли стоит вр...</td>\n",
       "      <td>мне кажется, это в первую очередь вопрос, как ...</td>\n",
       "      <td>Контролнет работает поверх клипа с тем на что ...</td>\n",
       "      <td>А можешь че-то посоветовать по этой теме почит...</td>\n",
       "    </tr>\n",
       "    <tr>\n",
       "      <th>43</th>\n",
       "      <td>мне кажется, это в первую очередь вопрос, как ...</td>\n",
       "      <td>Контролнет работает поверх клипа с тем на что ...</td>\n",
       "      <td>А можешь че-то посоветовать по этой теме почит...</td>\n",
       "      <td>https://github.com/lllyasviel/ControlNet-v1-1-...</td>\n",
       "    </tr>\n",
       "    <tr>\n",
       "      <th>47</th>\n",
       "      <td>Всем привет! \\nЗадача: классифкация на 277 кла...</td>\n",
       "      <td>В чем проблема с использованием стандартных мо...</td>\n",
       "      <td>вот кроме efficientnet в голову ничего и не пр...</td>\n",
       "      <td>Если надо сохранять размер картинки, то можно ...</td>\n",
       "    </tr>\n",
       "    <tr>\n",
       "      <th>...</th>\n",
       "      <td>...</td>\n",
       "      <td>...</td>\n",
       "      <td>...</td>\n",
       "      <td>...</td>\n",
       "    </tr>\n",
       "    <tr>\n",
       "      <th>3889</th>\n",
       "      <td>https://arxiv.org/pdf/1904.02689.pdf</td>\n",
       "      <td>Пасиб за папиру, не до конца понял, как градие...</td>\n",
       "      <td>Предикт кропается по gt и по кропу считается лосс</td>\n",
       "      <td>Да, но как оно в коде трейна реализовано?) они...</td>\n",
       "    </tr>\n",
       "    <tr>\n",
       "      <th>3890</th>\n",
       "      <td>Пасиб за папиру, не до конца понял, как градие...</td>\n",
       "      <td>Предикт кропается по gt и по кропу считается лосс</td>\n",
       "      <td>Да, но как оно в коде трейна реализовано?) они...</td>\n",
       "      <td>не знаю что делают они, но чтобы бэкпроп не ло...</td>\n",
       "    </tr>\n",
       "    <tr>\n",
       "      <th>3898</th>\n",
       "      <td>Есть три типа сегментации:\\n\\nсемантическая (s...</td>\n",
       "      <td>Они пошли самым простым путём: заменили прямоу...</td>\n",
       "      <td>в U-Net можно заменить слой энкодера на любой ...</td>\n",
       "      <td>эт да, blip умеет\\nиногда даже слишком\\nно мне...</td>\n",
       "    </tr>\n",
       "    <tr>\n",
       "      <th>3899</th>\n",
       "      <td>Они пошли самым простым путём: заменили прямоу...</td>\n",
       "      <td>в U-Net можно заменить слой энкодера на любой ...</td>\n",
       "      <td>эт да, blip умеет\\nиногда даже слишком\\nно мне...</td>\n",
       "      <td>а что у BLIP'а там? Там нет эмбеддингов?\\nМне ...</td>\n",
       "    </tr>\n",
       "    <tr>\n",
       "      <th>3911</th>\n",
       "      <td>звучит как скам)</td>\n",
       "      <td>Ладно</td>\n",
       "      <td>дичь</td>\n",
       "      <td>кто ранил инференс whisper на multiple gpu? на...</td>\n",
       "    </tr>\n",
       "  </tbody>\n",
       "</table>\n",
       "<p>541 rows × 4 columns</p>\n",
       "</div>"
      ],
      "text/plain": [
       "                                              context_3  \\\n",
       "40    По идее это может сделать стейбл диффужен с re...   \n",
       "41    вот да, видел примеры с стейбл, показалось, чт...   \n",
       "42    Смотря как подойти к делу, но вряд ли стоит вр...   \n",
       "43    мне кажется, это в первую очередь вопрос, как ...   \n",
       "47    Всем привет! \\nЗадача: классифкация на 277 кла...   \n",
       "...                                                 ...   \n",
       "3889               https://arxiv.org/pdf/1904.02689.pdf   \n",
       "3890  Пасиб за папиру, не до конца понял, как градие...   \n",
       "3898  Есть три типа сегментации:\\n\\nсемантическая (s...   \n",
       "3899  Они пошли самым простым путём: заменили прямоу...   \n",
       "3911                                   звучит как скам)   \n",
       "\n",
       "                                              context_2  \\\n",
       "40    вот да, видел примеры с стейбл, показалось, чт...   \n",
       "41    Смотря как подойти к делу, но вряд ли стоит вр...   \n",
       "42    мне кажется, это в первую очередь вопрос, как ...   \n",
       "43    Контролнет работает поверх клипа с тем на что ...   \n",
       "47    В чем проблема с использованием стандартных мо...   \n",
       "...                                                 ...   \n",
       "3889  Пасиб за папиру, не до конца понял, как градие...   \n",
       "3890  Предикт кропается по gt и по кропу считается лосс   \n",
       "3898  Они пошли самым простым путём: заменили прямоу...   \n",
       "3899  в U-Net можно заменить слой энкодера на любой ...   \n",
       "3911                                              Ладно   \n",
       "\n",
       "                                              context_1  \\\n",
       "40    Смотря как подойти к делу, но вряд ли стоит вр...   \n",
       "41    мне кажется, это в первую очередь вопрос, как ...   \n",
       "42    Контролнет работает поверх клипа с тем на что ...   \n",
       "43    А можешь че-то посоветовать по этой теме почит...   \n",
       "47    вот кроме efficientnet в голову ничего и не пр...   \n",
       "...                                                 ...   \n",
       "3889  Предикт кропается по gt и по кропу считается лосс   \n",
       "3890  Да, но как оно в коде трейна реализовано?) они...   \n",
       "3898  в U-Net можно заменить слой энкодера на любой ...   \n",
       "3899  эт да, blip умеет\\nиногда даже слишком\\nно мне...   \n",
       "3911                                               дичь   \n",
       "\n",
       "                                               response  \n",
       "40    мне кажется, это в первую очередь вопрос, как ...  \n",
       "41    Контролнет работает поверх клипа с тем на что ...  \n",
       "42    А можешь че-то посоветовать по этой теме почит...  \n",
       "43    https://github.com/lllyasviel/ControlNet-v1-1-...  \n",
       "47    Если надо сохранять размер картинки, то можно ...  \n",
       "...                                                 ...  \n",
       "3889  Да, но как оно в коде трейна реализовано?) они...  \n",
       "3890  не знаю что делают они, но чтобы бэкпроп не ло...  \n",
       "3898  эт да, blip умеет\\nиногда даже слишком\\nно мне...  \n",
       "3899  а что у BLIP'а там? Там нет эмбеддингов?\\nМне ...  \n",
       "3911  кто ранил инференс whisper на multiple gpu? на...  \n",
       "\n",
       "[541 rows x 4 columns]"
      ]
     },
     "execution_count": 7,
     "metadata": {},
     "output_type": "execute_result"
    }
   ],
   "source": [
    "data.dropna()"
   ]
  },
  {
   "cell_type": "code",
   "execution_count": 8,
   "metadata": {},
   "outputs": [],
   "source": [
    "def construct_conv(row, tokenizer, eos = True):\n",
    "    flatten = lambda l: [item for sublist in l for item in sublist]\n",
    "    conv = list(reversed([tokenizer.encode(x) + [tokenizer.eos_token_id] for x in row]))\n",
    "    conv = flatten(conv)\n",
    "    return conv"
   ]
  },
  {
   "cell_type": "code",
   "execution_count": 159,
   "metadata": {},
   "outputs": [],
   "source": [
    "import torch\n",
    "from peft import PeftModel, PeftConfig\n",
    "from transformers import AutoModelForCausalLM, AutoTokenizer"
   ]
  },
  {
   "cell_type": "code",
   "execution_count": 160,
   "metadata": {},
   "outputs": [],
   "source": [
    "model_path = \"../models/lora-5ep\"\n",
    "\n",
    "config = PeftConfig.from_pretrained(model_path)"
   ]
  },
  {
   "cell_type": "code",
   "execution_count": 161,
   "metadata": {},
   "outputs": [
    {
     "name": "stderr",
     "output_type": "stream",
     "text": [
      "Special tokens have been added in the vocabulary, make sure the associated word embeddings are fine-tuned or trained.\n"
     ]
    }
   ],
   "source": [
    "model = AutoModelForCausalLM.from_pretrained(\n",
    "    config.base_model_name_or_path,\n",
    ")\n",
    "tokenizer = AutoTokenizer.from_pretrained(config.base_model_name_or_path)"
   ]
  },
  {
   "cell_type": "code",
   "execution_count": 162,
   "metadata": {},
   "outputs": [],
   "source": [
    "model = PeftModel.from_pretrained(model, model_path)"
   ]
  },
  {
   "cell_type": "code",
   "execution_count": 163,
   "metadata": {},
   "outputs": [],
   "source": [
    "input_str = \"привет\""
   ]
  },
  {
   "cell_type": "code",
   "execution_count": 164,
   "metadata": {},
   "outputs": [
    {
     "name": "stderr",
     "output_type": "stream",
     "text": [
      "Setting `pad_token_id` to `eos_token_id`:50257 for open-end generation.\n"
     ]
    },
    {
     "data": {
      "text/plain": [
       "'привет@@ВТОРОЙ@@Привет, как дела? 🥺@@ПЕРВЫЙ@@'"
      ]
     },
     "execution_count": 164,
     "metadata": {},
     "output_type": "execute_result"
    }
   ],
   "source": [
    "input_ids = tokenizer(input_str, return_tensors=\"pt\")\n",
    "generated_token_ids = model.generate(\n",
    "            **input_ids,\n",
    "            top_k=10,\n",
    "            top_p=0.95,\n",
    "            num_beams=3,\n",
    "            num_return_sequences=1,\n",
    "            do_sample=True,\n",
    "            no_repeat_ngram_size=2,\n",
    "            temperature=1.5,\n",
    "            repetition_penalty=1.2,\n",
    "            length_penalty=1.0,\n",
    "            eos_token_id=50257,\n",
    "            max_new_tokens=40,\n",
    "        )\n",
    "generated_output = tokenizer.decode(generated_token_ids[0], skip_special_tokens=True)\n",
    "cutted_answer = generated_output\n",
    "# cut off the answer if it contains the special tokens\n",
    "# if \"@@ПЕРВЫЙ@@\" in cutted_answer:\n",
    "#     cutted_answer = cutted_answer.split(\"@@ПЕРВЫЙ@@\")[0]\n",
    "# if \"@@ВТОРОЙ@@\" in cutted_answer:\n",
    "#     cutted_answer = cutted_answer.split(\"@@ВТОРОЙ@@\")[0]\n",
    "\n",
    "cutted_answer"
   ]
  },
  {
   "cell_type": "code",
   "execution_count": 165,
   "metadata": {},
   "outputs": [
    {
     "data": {
      "text/plain": [
       "['@@ПЕРВЫЙ@@ где веса ламы найти?@@ВТОРОЙ@@В гугле по картинкам.@@ПЕРВЫЙ@@']"
      ]
     },
     "execution_count": 165,
     "metadata": {},
     "output_type": "execute_result"
    }
   ],
   "source": [
    "input_str = \"где веса ламы найти?\"\n",
    "\n",
    "chat_history_ids = \"@@ПЕРВЫЙ@@ \" + input_str + \"@@ВТОРОЙ@@\"\n",
    "new_input_ids = tokenizer(chat_history_ids, return_tensors='pt')\n",
    "generated_token_ids = model.generate(\n",
    "        **new_input_ids,\n",
    "        top_k=10,\n",
    "        top_p=0.95,\n",
    "        num_beams=3,\n",
    "        num_return_sequences=1,\n",
    "        do_sample=True,\n",
    "        no_repeat_ngram_size=2,\n",
    "        temperature=1.4,\n",
    "        repetition_penalty=1.2,\n",
    "        length_penalty=1.0,\n",
    "        eos_token_id=50257,\n",
    "        max_new_tokens=40,\n",
    "        pad_token_id=tokenizer.eos_token_id\n",
    "    )\n",
    "\n",
    "context_with_response = [tokenizer.decode(generated_token_ids[i]) for i in range(len(generated_token_ids))]\n",
    "context_with_response"
   ]
  },
  {
   "cell_type": "code",
   "execution_count": 124,
   "metadata": {},
   "outputs": [
    {
     "data": {
      "text/plain": [
       "'2.0.1'"
      ]
     },
     "execution_count": 124,
     "metadata": {},
     "output_type": "execute_result"
    }
   ],
   "source": [
    "import torch\n",
    "\n",
    "torch.__version__"
   ]
  },
  {
   "cell_type": "code",
   "execution_count": null,
   "metadata": {},
   "outputs": [],
   "source": []
  },
  {
   "cell_type": "code",
   "execution_count": 23,
   "metadata": {},
   "outputs": [
    {
     "name": "stderr",
     "output_type": "stream",
     "text": [
      "Special tokens have been added in the vocabulary, make sure the associated word embeddings are fine-tuned or trained.\n"
     ]
    },
    {
     "data": {
      "text/plain": [
       "['@@ПЕРВЫЙ@@ где найти веса ламы? @@ВТОРОЙ@@В интернете. Там много чего можно найти. Например, в гугле. Или в яндекс картинках.@@ПЕРВЫЙ@@']"
      ]
     },
     "execution_count": 23,
     "metadata": {},
     "output_type": "execute_result"
    }
   ],
   "source": [
    "import torch\n",
    "from transformers import AutoTokenizer, AutoModelWithLMHead\n",
    "\n",
    "tokenizer = AutoTokenizer.from_pretrained('tinkoff-ai/ruDialoGPT-small')\n",
    "model = AutoModelWithLMHead.from_pretrained('tinkoff-ai/ruDialoGPT-small')\n",
    "inputs = tokenizer('@@ПЕРВЫЙ@@ где найти веса ламы? @@ВТОРОЙ@@', return_tensors='pt')\n",
    "generated_token_ids = model.generate(\n",
    "    **inputs,\n",
    "    top_k=5,\n",
    "    top_p=0.9,\n",
    "    num_beams=3,\n",
    "    num_return_sequences=1,\n",
    "    do_sample=True,\n",
    "    no_repeat_ngram_size=2,\n",
    "    temperature=1.7,\n",
    "    repetition_penalty=1.2,\n",
    "    length_penalty=1.0,\n",
    "    eos_token_id=50257,\n",
    "    max_new_tokens=40,\n",
    "    pad_token_id=tokenizer.eos_token_id\n",
    ")\n",
    "context_with_response = [tokenizer.decode(sample_token_ids) for sample_token_ids in generated_token_ids]\n",
    "context_with_response"
   ]
  },
  {
   "cell_type": "code",
   "execution_count": 29,
   "metadata": {},
   "outputs": [
    {
     "data": {
      "text/plain": [
       "'2.28.2'"
      ]
     },
     "execution_count": 29,
     "metadata": {},
     "output_type": "execute_result"
    }
   ],
   "source": [
    "import requests\n",
    "requests.__version__"
   ]
  },
  {
   "cell_type": "code",
   "execution_count": 27,
   "metadata": {},
   "outputs": [
    {
     "name": "stdout",
     "output_type": "stream",
     "text": [
      "huggingface/tokenizers: The current process just got forked, after parallelism has already been used. Disabling parallelism to avoid deadlocks...\n",
      "To disable this warning, you can either:\n",
      "\t- Avoid using `tokenizers` before the fork if possible\n",
      "\t- Explicitly set the environment variable TOKENIZERS_PARALLELISM=(true | false)\n",
      "Defaulting to user installation because normal site-packages is not writeable\n",
      "Collecting telebot\n",
      "  Using cached telebot-0.0.5-py3-none-any.whl (4.8 kB)\n",
      "Collecting pyTelegramBotAPI (from telebot)\n",
      "  Using cached pyTelegramBotAPI-4.13.0.tar.gz (232 kB)\n",
      "  Preparing metadata (setup.py) ... \u001b[?25ldone\n",
      "\u001b[?25hRequirement already satisfied: requests in /Users/macbook/Library/Python/3.9/lib/python/site-packages (from telebot) (2.28.2)\n",
      "Requirement already satisfied: charset-normalizer<4,>=2 in /Users/macbook/Library/Python/3.9/lib/python/site-packages (from requests->telebot) (3.1.0)\n",
      "Requirement already satisfied: idna<4,>=2.5 in /Users/macbook/Library/Python/3.9/lib/python/site-packages (from requests->telebot) (3.4)\n",
      "Requirement already satisfied: urllib3<1.27,>=1.21.1 in /Users/macbook/Library/Python/3.9/lib/python/site-packages (from requests->telebot) (1.26.14)\n",
      "Requirement already satisfied: certifi>=2017.4.17 in /Users/macbook/Library/Python/3.9/lib/python/site-packages (from requests->telebot) (2022.12.7)\n",
      "Building wheels for collected packages: pyTelegramBotAPI\n",
      "  Building wheel for pyTelegramBotAPI (setup.py) ... \u001b[?25ldone\n",
      "\u001b[?25h  Created wheel for pyTelegramBotAPI: filename=pyTelegramBotAPI-4.13.0-py3-none-any.whl size=214546 sha256=42b335ca9dbe06e3b57c425bcf67dd685b28c9c9f6624720ac94fff15edef1c7\n",
      "  Stored in directory: /Users/macbook/Library/Caches/pip/wheels/6d/05/82/5f51ca10e3939eb47f61064a76b1fb027ff69927a25a3c5190\n",
      "Successfully built pyTelegramBotAPI\n",
      "Installing collected packages: pyTelegramBotAPI, telebot\n",
      "Successfully installed pyTelegramBotAPI-4.13.0 telebot-0.0.5\n",
      "\n",
      "\u001b[1m[\u001b[0m\u001b[34;49mnotice\u001b[0m\u001b[1;39;49m]\u001b[0m\u001b[39;49m A new release of pip is available: \u001b[0m\u001b[31;49m23.1.2\u001b[0m\u001b[39;49m -> \u001b[0m\u001b[32;49m23.2.1\u001b[0m\n",
      "\u001b[1m[\u001b[0m\u001b[34;49mnotice\u001b[0m\u001b[1;39;49m]\u001b[0m\u001b[39;49m To update, run: \u001b[0m\u001b[32;49m/Library/Developer/CommandLineTools/usr/bin/python3 -m pip install --upgrade pip\u001b[0m\n"
     ]
    }
   ],
   "source": [
    "!pip3 install telebot"
   ]
  },
  {
   "cell_type": "code",
   "execution_count": null,
   "metadata": {},
   "outputs": [],
   "source": []
  }
 ],
 "metadata": {
  "kernelspec": {
   "display_name": "Python 3",
   "language": "python",
   "name": "python3"
  },
  "language_info": {
   "codemirror_mode": {
    "name": "ipython",
    "version": 3
   },
   "file_extension": ".py",
   "mimetype": "text/x-python",
   "name": "python",
   "nbconvert_exporter": "python",
   "pygments_lexer": "ipython3",
   "version": "3.9.6"
  },
  "orig_nbformat": 4
 },
 "nbformat": 4,
 "nbformat_minor": 2
}
